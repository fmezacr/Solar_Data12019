{
 "cells": [
  {
   "cell_type": "markdown",
   "metadata": {},
   "source": [
    "## Rutina General 2019"
   ]
  },
  {
   "cell_type": "markdown",
   "metadata": {},
   "source": [
    "A continuación se importan las librerías necesarias para el script."
   ]
  },
  {
   "cell_type": "code",
   "execution_count": 2,
   "metadata": {},
   "outputs": [],
   "source": [
    "from __future__ import print_function, division\n",
    "import sunpy.timeseries\n",
    "from sunpy.net import Fido, attrs as a\n",
    "from sunpy.time import TimeRange\n",
    "import sunpy.data.sample\n",
    "import sunpy.map\n",
    "from sunpy.util.metadata import MetaDict\n",
    "from sunpy.time import parse_time\n",
    "import matplotlib.pyplot as plt\n",
    "%matplotlib inline\n",
    "import numpy as np\n",
    "import pandas as pd\n",
    "import datetime\n",
    "import math\n",
    "from glob import glob\n",
    "import cv2 as cv\n",
    "import astropy.units as u\n",
    "from astropy.time import Time\n",
    "from astropy.table import Table\n",
    "from astropy.io import fits\n",
    "from mpl_toolkits import mplot3d\n",
    "from mpl_toolkits.mplot3d import Axes3D\n",
    "from skimage.feature import peak_local_max"
   ]
  },
  {
   "cell_type": "markdown",
   "metadata": {},
   "source": [
    "El siguiente paso corresponde a mostrar las instrucciones del script y la solicitud de un rango de tiempo para buscar en la base de datos el TimeSeries del XRS (Sensor de Rayos X)."
   ]
  },
  {
   "cell_type": "code",
   "execution_count": 3,
   "metadata": {},
   "outputs": [
    {
     "name": "stdout",
     "output_type": "stream",
     "text": [
      "El presente script busca y descarga los TimeSeries de las curvas XRS,\n",
      "a partir de un rango de tiempo que ingresa el usuario.\n",
      "Seguidamente se detectan los picos en las curvas y se extraen las fechas de dichos picos.\n",
      "Se define un delta de tiempo y se descargan las imágenes FITS. Finalmente se estudian las\n",
      "intensidades de las imágenes FITS en una región de interés (ROI).\n",
      "-------------------------------------------------------------------------------------------\n",
      "Ingrese las fechas en cualquiera de los siguientes formatos:\n",
      "- 2007-May-04 21:08:12\n",
      "- 2007-05-04T21:08:12\n",
      "- 2007/05/04T21:08:12\n",
      "- 20070504T210812\n",
      "- 20070504_210812\n",
      "\n",
      "Ingrese fecha inicial: 2002/05/04 00:10\n",
      "Ingrese fecha final: 2002/05/04 04:10\n",
      "\n",
      "El intervalo de tiempo ingresado es:\n",
      "    <sunpy.time.timerange.TimeRange object at 0x7f225444df28>\n",
      "    Start: 2002-05-04 00:10:00\n",
      "    End:   2002-05-04 04:10:00\n",
      "    Center:2002-05-04 02:10:00\n",
      "    Duration:0.16666666666666666 days or\n",
      "           4.0 hours or\n",
      "           240.0 minutes or\n",
      "           14400.0 seconds\n",
      "\n"
     ]
    }
   ],
   "source": [
    "#Se imprime en la terminal la información del script\n",
    "print(\"El presente script busca y descarga los TimeSeries de las curvas XRS,\\na partir de un rango de tiempo que ingresa el usuario.\")\n",
    "print(\"Seguidamente se detectan los picos en las curvas y se extraen las fechas de dichos picos.\")\n",
    "print(\"Se define un delta de tiempo y se descargan las imágenes FITS. Finalmente se estudian las\\nintensidades de las imágenes FITS en una región de interés (ROI).\")\n",
    "print(\"-------------------------------------------------------------------------------------------\")\n",
    "print(\"Ingrese las fechas en cualquiera de los siguientes formatos:\\n- 2007-May-04 21:08:12\\n- 2007-05-04T21:08:12\\n- 2007/05/04T21:08:12\")\n",
    "print(\"- 20070504T210812\\n- 20070504_210812\\n\")\n",
    "initialTime = input(\"Ingrese fecha inicial: \")\n",
    "finalTime = input(\"Ingrese fecha final: \")\n",
    "\n",
    "#Se crea el timerange con los datos ingresados por el usuario, luego se imprime\n",
    "time_range = TimeRange(initialTime, finalTime)\n",
    "print(\"\\nEl intervalo de tiempo ingresado es:\\n\", time_range)"
   ]
  },
  {
   "cell_type": "markdown",
   "metadata": {},
   "source": [
    "Lo anterior define un rango de tiempo proporsionado por el usuario. Se utiliza el objeto TimeSeries de la\n",
    "librería Sunpy de Python. Cuando se imprime este objeto se observa la fecha inicial, la fecha final, el centro del intervalo y la duración en diferentes unidades."
   ]
  },
  {
   "cell_type": "markdown",
   "metadata": {},
   "source": [
    "Utilizando el TimeRange anterior, se busca y se descarga la curva del XRS. Para realizar la búsqueda se utiliza Fido.search() y se muestran los resultados de la búsqueda."
   ]
  },
  {
   "cell_type": "code",
   "execution_count": 4,
   "metadata": {},
   "outputs": [
    {
     "data": {
      "text/html": [
       "Results from 1 Provider:</br></br>1 Results from the XRSClient:</br><i>Table length=1</i>\n",
       "<table id=\"table139785419414104\" class=\"table-striped table-bordered table-condensed\">\n",
       "<thead><tr><th>Start Time</th><th>End Time</th><th>Source</th><th>Instrument</th><th>Wavelength</th></tr></thead>\n",
       "<thead><tr><th>str19</th><th>str19</th><th>str4</th><th>str4</th><th>str3</th></tr></thead>\n",
       "<tr><td>2002-05-04 00:00:00</td><td>2002-05-04 23:59:59</td><td>nasa</td><td>goes</td><td>nan</td></tr>\n",
       "</table></br>"
      ],
      "text/plain": [
       "<sunpy.net.fido_factory.UnifiedResponse object at 0x7f222f4cac88>\n",
       "Results from 1 Provider:\n",
       "\n",
       "1 Results from the XRSClient:\n",
       "     Start Time           End Time      Source Instrument Wavelength\n",
       "       str19               str19         str4     str4       str3   \n",
       "------------------- ------------------- ------ ---------- ----------\n",
       "2002-05-04 00:00:00 2002-05-04 23:59:59   nasa       goes        nan\n"
      ]
     },
     "execution_count": 4,
     "metadata": {},
     "output_type": "execute_result"
    }
   ],
   "source": [
    "resultSearchXRS = Fido.search(a.Time(time_range.start, time_range.end), a.Instrument('XRS'))\n",
    "resultSearchXRS"
   ]
  },
  {
   "cell_type": "markdown",
   "metadata": {},
   "source": [
    "Se procede a descarga los datos de la curva. Se descargan los datos utilizando Fido.fetch() y se guardan en el path especificado."
   ]
  },
  {
   "cell_type": "code",
   "execution_count": 5,
   "metadata": {},
   "outputs": [
    {
     "name": "stdout",
     "output_type": "stream",
     "text": [
      "[                                        ========================================\n"
     ]
    }
   ],
   "source": [
    "filesXRS = Fido.fetch(resultSearchXRS, path='DatosJupyterSun/CurvasXRS')"
   ]
  },
  {
   "cell_type": "markdown",
   "metadata": {},
   "source": [
    "Ahora se crea un objeto TimeSeries, el cual contiene los datos descargados anteriormente, y se plotea."
   ]
  },
  {
   "cell_type": "code",
   "execution_count": 6,
   "metadata": {},
   "outputs": [
    {
     "name": "stderr",
     "output_type": "stream",
     "text": [
      "/home/gabriel/anaconda3/envs/solar/lib/python3.7/site-packages/sunpy/timeseries/sources/goes.py:111: UserWarning: Matplotlib is currently using module://ipykernel.pylab.backend_inline, which is a non-GUI backend, so cannot show the figure.\n",
      "  figure.show()\n"
     ]
    },
    {
     "data": {
      "image/png": "[encoded data removed]",
      "text/plain": [
       "<Figure size 432x288 with 2 Axes>"
      ]
     },
     "metadata": {
      "needs_background": "light"
     },
     "output_type": "display_data"
    }
   ],
   "source": [
    "goesXRS_TS = sunpy.timeseries.TimeSeries(filesXRS, source= 'XRS')\n",
    "goesXRS_TS.peek()"
   ]
  },
  {
   "cell_type": "markdown",
   "metadata": {},
   "source": [
    "Se obtienen dos curvas, de las cuales se tomará la roja, que corresponde a los datos \"xrsb\". A esa curva se le deben encontrar los picos máximos. Para esto se utiliza la función findpeaks(series,Delta), la cual recibe los datos de una serie y un valor que corresponde a la sensibilidad."
   ]
  },
  {
   "cell_type": "code",
   "execution_count": 7,
   "metadata": {},
   "outputs": [],
   "source": [
    "def findpeaks(series, DELTA):\n",
    "    # Valores iniciales\n",
    "    mn, mx = np.Inf, -np.Inf\n",
    "    minpeaks = []\n",
    "    maxpeaks = []\n",
    "    lookformax = True\n",
    "    start = True\n",
    "    # Se itera sobre cada uno de los elementos en la serie\n",
    "    for time_pos, value in series.iteritems():\n",
    "        if value > mx:\n",
    "            mx = value\n",
    "            mxpos = time_pos\n",
    "        if value < mn:\n",
    "            mn = value\n",
    "            mnpos = time_pos\n",
    "        if lookformax:\n",
    "            if value < mx-DELTA:\n",
    "                # un maximo local\n",
    "                maxpeaks.append((mxpos, mx))\n",
    "                mn = value\n",
    "                mnpos = time_pos\n",
    "                lookformax = False\n",
    "            elif start:\n",
    "                # un minimo local al principio\n",
    "                minpeaks.append((mnpos, mn))\n",
    "                mx = value\n",
    "                mxpos = time_pos\n",
    "                start = False\n",
    "        else:\n",
    "            if value > mn+DELTA:\n",
    "                # minimo local\n",
    "                minpeaks.append((mnpos, mn))\n",
    "                mx = value\n",
    "                mxpos = time_pos\n",
    "                lookformax = True\n",
    "    \n",
    "    # Se revisa al principio y al final\n",
    "    if value > mn+DELTA:\n",
    "        maxpeaks.append((mxpos, mx))\n",
    "    elif value < mx-DELTA:\n",
    "        minpeaks.append((mnpos, mn))\n",
    "    return minpeaks, maxpeaks"
   ]
  },
  {
   "cell_type": "markdown",
   "metadata": {},
   "source": [
    "A continuación, se extraen los datos de la curva roja para pasarlos a la función findpeaks. El resultado se \n",
    "guarda en una arreglo, se imprime como un objeto DataFrame y se plotean los puntos encontrados sobre la figura."
   ]
  },
  {
   "cell_type": "code",
   "execution_count": 8,
   "metadata": {},
   "outputs": [
    {
     "name": "stdout",
     "output_type": "stream",
     "text": [
      "Los picos máximos son:\n",
      "                     0             1\n",
      "0  2002-05-04 00:54:39  1.121946e-06\n",
      "1  2002-05-04 01:30:54  2.036483e-06\n",
      "2  2002-05-04 01:39:33  2.187877e-06\n",
      "3  2002-05-04 02:52:03  8.177245e-06\n",
      "4  2002-05-04 03:44:03  2.563661e-06\n",
      "5  2002-05-04 05:11:15  1.219984e-06\n",
      "6  2002-05-04 05:24:57  1.229000e-06\n",
      "7  2002-05-04 06:03:12  1.070668e-06\n",
      "8  2002-05-04 06:26:15  1.237402e-06\n",
      "9  2002-05-04 07:46:54  8.588480e-07\n",
      "10 2002-05-04 08:37:39  1.003529e-06\n",
      "11 2002-05-04 08:56:39  1.370585e-06\n",
      "12 2002-05-04 09:18:15  1.076051e-06\n",
      "13 2002-05-04 10:23:09  1.321914e-06\n",
      "14 2002-05-04 11:14:24  1.958757e-06\n",
      "15 2002-05-04 12:14:27  9.757219e-07\n",
      "16 2002-05-04 12:26:06  9.106421e-07\n",
      "17 2002-05-04 12:36:45  9.684861e-07\n",
      "18 2002-05-04 13:16:00  4.537438e-06\n",
      "19 2002-05-04 13:25:18  9.456617e-06\n",
      "20 2002-05-04 15:00:33  1.346590e-06\n",
      "21 2002-05-04 15:13:33  1.300055e-06\n",
      "22 2002-05-04 17:13:39  1.322387e-06\n",
      "23 2002-05-04 18:12:51  9.690430e-07\n",
      "24 2002-05-04 19:00:27  2.036781e-06\n",
      "25 2002-05-04 20:19:27  9.924521e-07\n",
      "26 2002-05-04 20:48:27  2.114620e-06\n",
      "27 2002-05-04 21:29:27  1.434845e-06\n",
      "28 2002-05-04 21:47:33  2.874681e-06\n",
      "29 2002-05-04 21:58:21  3.786211e-06\n",
      "30 2002-05-04 23:31:00  8.336043e-07\n"
     ]
    },
    {
     "data": {
      "image/png": "[encoded data removed]",
      "text/plain": [
       "<Figure size 432x288 with 1 Axes>"
      ]
     },
     "metadata": {
      "needs_background": "light"
     },
     "output_type": "display_data"
    }
   ],
   "source": [
    "#Se extrae la serie xrsb\n",
    "xrs_Series = goesXRS_TS.data['xrsb']\n",
    "\n",
    "#Se extraen los picos mínimos y máximos de la serie\n",
    "min_picos, max_picos = findpeaks(xrs_Series, DELTA=0.0000001)\n",
    "\n",
    "#Se imprimen los picos máximos encontrados \n",
    "print ('Los picos máximos son:')\n",
    "print (pd.DataFrame(max_picos))\n",
    "\n",
    "\n",
    "#Se plotea la curva con los picos máximos \n",
    "plt.figure()\n",
    "plt.ylabel('Sunspot Number')\n",
    "plt.xlabel('Time')\n",
    "plt.title('Peaks in TimeSeries')\n",
    "xrs_Series.plot()\n",
    "plt.scatter(*zip(*max_picos), color='red', label='max') # Punto de color rojo en máximos\n",
    "plt.legend()\n",
    "plt.grid(True)\n",
    "plt.show()"
   ]
  },
  {
   "cell_type": "markdown",
   "metadata": {},
   "source": [
    "Se necesita descartar los picos que sea menores a $10^{-6}$, se imprimen nuevamente como un DataFrame y vuelven a plotear los puntos sobre la curva."
   ]
  },
  {
   "cell_type": "code",
   "execution_count": 9,
   "metadata": {},
   "outputs": [
    {
     "name": "stdout",
     "output_type": "stream",
     "text": [
      "Los picos máximos por encima de 1x10^(-6) son: \n",
      "\n",
      "                     0         1\n",
      "0  2002-05-04 00:54:39  0.000001\n",
      "1  2002-05-04 01:30:54  0.000002\n",
      "2  2002-05-04 01:39:33  0.000002\n",
      "3  2002-05-04 02:52:03  0.000008\n",
      "4  2002-05-04 03:44:03  0.000003\n",
      "5  2002-05-04 05:11:15  0.000001\n",
      "6  2002-05-04 05:24:57  0.000001\n",
      "7  2002-05-04 06:03:12  0.000001\n",
      "8  2002-05-04 06:26:15  0.000001\n",
      "9  2002-05-04 08:37:39  0.000001\n",
      "10 2002-05-04 08:56:39  0.000001\n",
      "11 2002-05-04 09:18:15  0.000001\n",
      "12 2002-05-04 10:23:09  0.000001\n",
      "13 2002-05-04 11:14:24  0.000002\n",
      "14 2002-05-04 13:16:00  0.000005\n",
      "15 2002-05-04 13:25:18  0.000009\n",
      "16 2002-05-04 15:00:33  0.000001\n",
      "17 2002-05-04 15:13:33  0.000001\n",
      "18 2002-05-04 17:13:39  0.000001\n",
      "19 2002-05-04 19:00:27  0.000002\n",
      "20 2002-05-04 20:48:27  0.000002\n",
      "21 2002-05-04 21:29:27  0.000001\n",
      "22 2002-05-04 21:47:33  0.000003\n",
      "23 2002-05-04 21:58:21  0.000004\n"
     ]
    },
    {
     "data": {
      "image/png": "[encoded data removed]",
      "text/plain": [
       "<Figure size 432x288 with 1 Axes>"
      ]
     },
     "metadata": {
      "needs_background": "light"
     },
     "output_type": "display_data"
    }
   ],
   "source": [
    "#Variable donde se guardarán los picos mayores a 1x10^(-6)\n",
    "maxPicosArriba10e_m06 = []\n",
    "\n",
    "#Se recorre y se revisa todos los máximos\n",
    "for i in range(0, len(max_picos)-1):\n",
    "    if max_picos[i][1] > 1.0e-06:\n",
    "        maxPicosArriba10e_m06.append(max_picos[i])\n",
    "    \n",
    "#Se imprimen picos por encima del limite establecido\n",
    "print ('Los picos máximos por encima de 1x10^(-6) son: \\n')\n",
    "print (pd.DataFrame(maxPicosArriba10e_m06))\n",
    "\n",
    "#Se plotea la curva con los picos máximos \n",
    "plt.figure()\n",
    "plt.ylabel('Sunspot Number')\n",
    "plt.xlabel('Time')\n",
    "plt.title('Peaks in TimeSeries')\n",
    "xrs_Series.plot()\n",
    "plt.scatter(*zip(*maxPicosArriba10e_m06), color='red', label='max')\n",
    "plt.legend()\n",
    "plt.grid(True)\n",
    "plt.show()"
   ]
  },
  {
   "cell_type": "markdown",
   "metadata": {},
   "source": [
    "Cuando los picos son identificados, se guardan en una archivo .csv mediante la utilización de pandas."
   ]
  },
  {
   "cell_type": "code",
   "execution_count": 10,
   "metadata": {},
   "outputs": [],
   "source": [
    "#Se define DataFrame de pandas para guardar información en archivo .csv\n",
    "dataFrameMaxPicos = pd.DataFrame(maxPicosArriba10e_m06)\n",
    "dataFrameMaxPicos.to_csv('DatosJupyterSun/maxPicos.csv', sep='\\t', index=False)"
   ]
  },
  {
   "cell_type": "markdown",
   "metadata": {},
   "source": [
    "Se necesita obtener un rango de tiempo de los picos, para lo cual se utiliza la función returnDataRange(centralDate, delta_min),\n",
    "que toma la fecha de los picos con un delta de tiempo de 30 minutos antes y después."
   ]
  },
  {
   "cell_type": "code",
   "execution_count": 11,
   "metadata": {},
   "outputs": [
    {
     "name": "stdout",
     "output_type": "stream",
     "text": [
      "   <sunpy.time.timerange.TimeRange object at 0x7f2213d26940>\n",
      "    Start: 2002-05-04 03:14:03\n",
      "    End:   2002-05-04 04:14:03\n",
      "    Center:2002-05-04 03:44:03\n",
      "    Duration:0.041666666666666664 days or\n",
      "           1.0 hours or\n",
      "           60.0 minutes or\n",
      "           3600.0 seconds\n",
      "\n"
     ]
    }
   ],
   "source": [
    "#Define un TimeRange de una hora, a partir de la hora central extraída\n",
    "#en la curva XRS. Con el TimeRange se busca en la base de datos JSOC\n",
    "#los archivos FITS\n",
    "def returnDataRange(centralDate, delta_min):\n",
    "    date_rangeUp = TimeRange(centralDate, delta_min * u.min).previous()\n",
    "    date_rangeFinal = TimeRange(date_rangeUp.start, date_rangeUp.next().end)\n",
    "    return date_rangeFinal\n",
    "\n",
    "#Se define el TimeRange, a partir de un pico máximo\n",
    "maxPicoTR = returnDataRange(maxPicosArriba10e_m06[4][0], 30)\n",
    "print (maxPicoTR)"
   ]
  },
  {
   "cell_type": "markdown",
   "metadata": {},
   "source": [
    "Utilizando el rango de tiempo obtenido, se buscan y descargan los archivos FITS del AIA/SDO."
   ]
  },
  {
   "cell_type": "code",
   "execution_count": 14,
   "metadata": {},
   "outputs": [
    {
     "name": "stdout",
     "output_type": "stream",
     "text": [
      "2.0 min\n",
      "193.0 Angstrom\n"
     ]
    }
   ],
   "source": [
    "#Se busca en el rango de tiempo definido anteriormente, los datos corresponden\n",
    "#a la serie aia.lev1 con una cadencia de 12 segundos, una longitud de onda de\n",
    "#193 Ångström\n",
    "x = 2*u.minute\n",
    "y = 193*u.AA\n",
    "resultsAIA = Fido.search(a.jsoc.Time(maxPicoTR.start, maxPicoTR.end), a.jsoc.Series('aia.lev1_euv_12s'), a.jsoc.Wavelength(y), a.vso.Sample(x),  a.jsoc.Notify('yasser.wagon@ucr.ac.cr'))\n",
    "resultsAIA"
   ]
  },
  {
   "cell_type": "code",
   "execution_count": null,
   "metadata": {},
   "outputs": [],
   "source": []
  }
 ],
 "metadata": {
  "kernelspec": {
   "display_name": "Python 3",
   "language": "python",
   "name": "python3"
  },
  "language_info": {
   "codemirror_mode": {
    "name": "ipython",
    "version": 3
   },
   "file_extension": ".py",
   "mimetype": "text/x-python",
   "name": "python",
   "nbconvert_exporter": "python",
   "pygments_lexer": "ipython3",
   "version": "3.7.3"
  }
 },
 "nbformat": 4,
 "nbformat_minor": 2
}
